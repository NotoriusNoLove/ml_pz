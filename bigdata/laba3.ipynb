{
 "cells": [
  {
   "cell_type": "code",
   "execution_count": 98,
   "metadata": {},
   "outputs": [],
   "source": [
    "import json\n",
    "\n",
    "from pyspark.sql import SparkSession\n",
    "from pyspark.sql.functions import col"
   ]
  },
  {
   "cell_type": "code",
   "execution_count": 99,
   "metadata": {},
   "outputs": [],
   "source": [
    "spark = (\n",
    "    SparkSession.builder\n",
    "        .master(\"local\")\n",
    "        .getOrCreate()\n",
    ")"
   ]
  },
  {
   "cell_type": "code",
   "execution_count": 100,
   "metadata": {},
   "outputs": [],
   "source": [
    "all_film = spark.read.csv(\n",
    "    'data/u.data',\n",
    "    schema='UserID int, MovieID int, Rating int, Timestamp long',\n",
    "    sep = '\\t',\n",
    "    header = True\n",
    ")\n",
    "selected_film = all_film.filter('MovieID = 220')"
   ]
  },
  {
   "cell_type": "code",
   "execution_count": 101,
   "metadata": {},
   "outputs": [],
   "source": [
    "rat_all = (\n",
    "    all_film\n",
    "    .groupBy(\"Rating\")\n",
    "    .count()\n",
    "    .select(col(\"count\").alias(\"rat_all\"))\n",
    "    .sort(\"Rating\")\n",
    ")\n",
    "rat_film = (\n",
    "    selected_film\n",
    "    .groupBy(\"Rating\")\n",
    "    .count()\n",
    "    .select(col(\"count\").alias(\"rat_film\"))\n",
    "    .sort(\"Rating\")\n",
    ")"
   ]
  },
  {
   "cell_type": "code",
   "execution_count": 102,
   "metadata": {},
   "outputs": [
    {
     "name": "stdout",
     "output_type": "stream",
     "text": [
      "+--------+\n",
      "|rat_film|\n",
      "+--------+\n",
      "|       4|\n",
      "|      10|\n",
      "|      23|\n",
      "|      16|\n",
      "|      13|\n",
      "+--------+\n",
      "\n",
      "+-------+\n",
      "|rat_all|\n",
      "+-------+\n",
      "|   6110|\n",
      "|  11370|\n",
      "|  27144|\n",
      "|  34174|\n",
      "|  21201|\n",
      "+-------+\n",
      "\n"
     ]
    }
   ],
   "source": [
    "rat_film.show()\n",
    "rat_all.show()"
   ]
  },
  {
   "cell_type": "code",
   "execution_count": 106,
   "metadata": {},
   "outputs": [],
   "source": [
    "film_dict = (rat_film.schema.names[0], ([film[0] for film in rat_film.collect()]))\n",
    "all_dict = (rat_all.schema.names[0], ([film[0] for film in rat_all.collect()]))"
   ]
  },
  {
   "cell_type": "code",
   "execution_count": 107,
   "metadata": {},
   "outputs": [
    {
     "data": {
      "text/plain": [
       "{'rat_film': [4, 10, 23, 16, 13],\n",
       " 'rat_all': [6110, 11370, 27144, 34174, 21201]}"
      ]
     },
     "execution_count": 107,
     "metadata": {},
     "output_type": "execute_result"
    }
   ],
   "source": [
    "result = dict([film_dict, all_dict])\n",
    "result"
   ]
  },
  {
   "cell_type": "code",
   "execution_count": 108,
   "metadata": {},
   "outputs": [],
   "source": [
    "with open('file.json', 'w') as f:\n",
    "    json.dump(result, f)"
   ]
  }
 ],
 "metadata": {
  "kernelspec": {
   "display_name": "machine_learning",
   "language": "python",
   "name": "python3"
  },
  "language_info": {
   "codemirror_mode": {
    "name": "ipython",
    "version": 3
   },
   "file_extension": ".py",
   "mimetype": "text/x-python",
   "name": "python",
   "nbconvert_exporter": "python",
   "pygments_lexer": "ipython3",
   "version": "3.10.13"
  }
 },
 "nbformat": 4,
 "nbformat_minor": 2
}
